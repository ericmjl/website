{
 "cells": [
  {
   "cell_type": "code",
   "execution_count": 2,
   "metadata": {},
   "outputs": [],
   "source": [
    "%load_ext autoreload\n",
    "%autoreload 2"
   ]
  },
  {
   "cell_type": "code",
   "execution_count": 3,
   "metadata": {},
   "outputs": [],
   "source": [
    "import requests\n",
    "from bs4 import BeautifulSoup\n",
    "\n",
    "url = \"https://ericmjl.github.io/blog/2023/8/4/skating-ahead-of-the-puck-a-wayne-gretzky-approach-to-tech-adoption/\"\n",
    "response = requests.get(url)\n",
    "\n",
    "if response.status_code == 200:\n",
    "    html = response.content\n",
    "    soup = BeautifulSoup(html, 'html.parser')\n",
    "    webpage_text = soup.get_text()\n",
    "else:\n",
    "    print(\"Failed to retrieve the webpage.\")\n"
   ]
  },
  {
   "cell_type": "code",
   "execution_count": 4,
   "metadata": {},
   "outputs": [
    {
     "name": "stdout",
     "output_type": "stream",
     "text": [
      "{\n",
      "    \"post_text\": \"Just published a new blog post on my personal site, 'Skating Ahead of the Puck: A Wayne Gretzky Approach to Tech Adoption'. In it, I explore how the wisdom of a hockey legend can guide us in the world of #techadoption and #datascience. If you're interested in #emergingtech and how to gain a #competitiveadvantage, this post is for you. I'd love to hear your thoughts on it - feel free to react, comment, or share the post with others who might find it valuable. If you appreciate my work and want to support me, consider becoming a patron at https://patreon.com/ericmjl/. Looking forward to hearing your thoughts! #waynegretzky #foresight #executioncapability #riskmanagement #teamwork #profit #innovation #strategicthinking #technologyladder #individualcontributor #teamstrategy #thoughtframework\"\n",
      "}"
     ]
    }
   ],
   "source": [
    "from llamabot.prompt_library.blog import blogging_bot, compose_linkedin_post, compose_twitter_post\n",
    "\n",
    "bot = blogging_bot()\n",
    "\n",
    "response = bot(compose_linkedin_post(webpage_text)) \n"
   ]
  },
  {
   "cell_type": "code",
   "execution_count": 8,
   "metadata": {},
   "outputs": [
    {
     "data": {
      "text/plain": [
       "{'post_text': \"Just published a new blog post on my personal site, 'Skating Ahead of the Puck: A Wayne Gretzky Approach to Tech Adoption'. In it, I explore how the wisdom of a hockey legend can guide us in the world of #techadoption and #datascience. If you're interested in #emergingtech and how to gain a #competitiveadvantage, this post is for you. I'd love to hear your thoughts on it - feel free to react, comment, or share the post with others who might find it valuable. If you appreciate my work and want to support me, consider becoming a patron at https://patreon.com/ericmjl/. Looking forward to hearing your thoughts! #waynegretzky #foresight #executioncapability #riskmanagement #teamwork #profit #innovation #strategicthinking #technologyladder #individualcontributor #teamstrategy #thoughtframework\"}"
      ]
     },
     "execution_count": 8,
     "metadata": {},
     "output_type": "execute_result"
    }
   ],
   "source": [
    "import json \n",
    "json.loads(response.content)"
   ]
  },
  {
   "cell_type": "code",
   "execution_count": 18,
   "metadata": {},
   "outputs": [
    {
     "name": "stdout",
     "output_type": "stream",
     "text": [
      "{\n",
      "    \"post_text\": \"Just shared my latest blog post on adopting a #waynegretzky approach to #techadoption. Learn how to skate ahead of the puck in #datascience and #emergingtech. Your thoughts? Share, comment, or retweet! Support my work on Patreon: https://patreon.com/ericmjl/ #innovation #strategicthinking\"\n",
      "}"
     ]
    }
   ],
   "source": [
    "response = bot(compose_twitter_post(webpage_text)) \n"
   ]
  }
 ],
 "metadata": {
  "kernelspec": {
   "display_name": "website",
   "language": "python",
   "name": "python3"
  },
  "language_info": {
   "codemirror_mode": {
    "name": "ipython",
    "version": 3
   },
   "file_extension": ".py",
   "mimetype": "text/x-python",
   "name": "python",
   "nbconvert_exporter": "python",
   "pygments_lexer": "ipython3",
   "version": "3.10.11"
  },
  "orig_nbformat": 4
 },
 "nbformat": 4,
 "nbformat_minor": 2
}
